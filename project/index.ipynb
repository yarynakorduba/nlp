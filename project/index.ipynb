{
 "cells": [
  {
   "cell_type": "code",
   "execution_count": 42,
   "metadata": {},
   "outputs": [],
   "source": [
    "import pandas as pd\n",
    "from transformers import AutoTokenizer\n",
    "from transformers import AutoModel\n",
    "import matplotlib.pyplot as plt\n",
    "import nltk\n",
    "import string"
   ]
  },
  {
   "cell_type": "code",
   "execution_count": 43,
   "metadata": {},
   "outputs": [
    {
     "data": {
      "text/html": [
       "<div>\n",
       "<style scoped>\n",
       "    .dataframe tbody tr th:only-of-type {\n",
       "        vertical-align: middle;\n",
       "    }\n",
       "\n",
       "    .dataframe tbody tr th {\n",
       "        vertical-align: top;\n",
       "    }\n",
       "\n",
       "    .dataframe thead th {\n",
       "        text-align: right;\n",
       "    }\n",
       "</style>\n",
       "<table border=\"1\" class=\"dataframe\">\n",
       "  <thead>\n",
       "    <tr style=\"text-align: right;\">\n",
       "      <th></th>\n",
       "      <th>Unnamed: 0</th>\n",
       "      <th>article</th>\n",
       "      <th>source</th>\n",
       "      <th>labels</th>\n",
       "    </tr>\n",
       "  </thead>\n",
       "  <tbody>\n",
       "    <tr>\n",
       "      <th>0</th>\n",
       "      <td>0</td>\n",
       "      <td>When I first started looking at oil assets, I ...</td>\n",
       "      <td>own_source_lessthan50</td>\n",
       "      <td>0.0</td>\n",
       "    </tr>\n",
       "    <tr>\n",
       "      <th>1</th>\n",
       "      <td>1</td>\n",
       "      <td>We look at two airlines that have given Wall S...</td>\n",
       "      <td>own_source_morethan50</td>\n",
       "      <td>0.0</td>\n",
       "    </tr>\n",
       "    <tr>\n",
       "      <th>2</th>\n",
       "      <td>2</td>\n",
       "      <td>Disney's Animal Kingdom theme park is staging ...</td>\n",
       "      <td>own_source_lessthan50</td>\n",
       "      <td>0.0</td>\n",
       "    </tr>\n",
       "    <tr>\n",
       "      <th>3</th>\n",
       "      <td>3</td>\n",
       "      <td>Why should you think otherwise? If the effort ...</td>\n",
       "      <td>own_source_lessthan50</td>\n",
       "      <td>0.0</td>\n",
       "    </tr>\n",
       "    <tr>\n",
       "      <th>4</th>\n",
       "      <td>4</td>\n",
       "      <td>Chris Murphy, Carolyn Maloney and Doug Jones i...</td>\n",
       "      <td>own_source_lessthan50</td>\n",
       "      <td>0.0</td>\n",
       "    </tr>\n",
       "  </tbody>\n",
       "</table>\n",
       "</div>"
      ],
      "text/plain": [
       "   Unnamed: 0                                            article  \\\n",
       "0           0  When I first started looking at oil assets, I ...   \n",
       "1           1  We look at two airlines that have given Wall S...   \n",
       "2           2  Disney's Animal Kingdom theme park is staging ...   \n",
       "3           3  Why should you think otherwise? If the effort ...   \n",
       "4           4  Chris Murphy, Carolyn Maloney and Doug Jones i...   \n",
       "\n",
       "                  source  labels  \n",
       "0  own_source_lessthan50     0.0  \n",
       "1  own_source_morethan50     0.0  \n",
       "2  own_source_lessthan50     0.0  \n",
       "3  own_source_lessthan50     0.0  \n",
       "4  own_source_lessthan50     0.0  "
      ]
     },
     "execution_count": 43,
     "metadata": {},
     "output_type": "execute_result"
    }
   ],
   "source": [
    "df = pd.read_csv('./data/articles.csv')\n",
    "\n",
    "df.head()"
   ]
  },
  {
   "cell_type": "code",
   "execution_count": 44,
   "metadata": {},
   "outputs": [
    {
     "data": {
      "text/plain": [
       "(15050, 4)"
      ]
     },
     "execution_count": 44,
     "metadata": {},
     "output_type": "execute_result"
    }
   ],
   "source": [
    "real=df[df[\"labels\"]==1.0]#[:100]\n",
    "real.shape"
   ]
  },
  {
   "cell_type": "code",
   "execution_count": 45,
   "metadata": {},
   "outputs": [
    {
     "data": {
      "text/plain": [
       "(9944, 4)"
      ]
     },
     "execution_count": 45,
     "metadata": {},
     "output_type": "execute_result"
    }
   ],
   "source": [
    "fake=df[df[\"labels\"]==0.0]#[:100]\n",
    "fake.shape"
   ]
  },
  {
   "cell_type": "code",
   "execution_count": 46,
   "metadata": {},
   "outputs": [
    {
     "data": {
      "image/png": "[encoded data removed]",
      "text/plain": [
       "<Figure size 640x480 with 1 Axes>"
      ]
     },
     "metadata": {},
     "output_type": "display_data"
    }
   ],
   "source": [
    "real_lengths = real['article'].apply(lambda x: len(nltk.sent_tokenize(x)))\n",
    "fake_lengths = fake['article'].apply(lambda x: len(nltk.sent_tokenize(x)))\n",
    "plt.hist(real_lengths, bins=50, alpha=0.5, label='Real')\n",
    "plt.hist(fake_lengths, bins=50, alpha=0.5, label='Fake')\n",
    "\n",
    "plt.title('Article Lengths')\n",
    "plt.xlabel('Length')\n",
    "plt.ylabel('Count')\n",
    "plt.legend()\n",
    "plt.show()"
   ]
  },
  {
   "cell_type": "code",
   "execution_count": 47,
   "metadata": {},
   "outputs": [
    {
     "data": {
      "text/plain": [
       "0       36\n",
       "1       60\n",
       "2       41\n",
       "3       26\n",
       "4       34\n",
       "        ..\n",
       "9939    50\n",
       "9940    50\n",
       "9941    50\n",
       "9942    49\n",
       "9943    50\n",
       "Name: article, Length: 9944, dtype: int64"
      ]
     },
     "execution_count": 47,
     "metadata": {},
     "output_type": "execute_result"
    }
   ],
   "source": [
    "fake_lengths"
   ]
  },
  {
   "cell_type": "code",
   "execution_count": 48,
   "metadata": {},
   "outputs": [
    {
     "name": "stderr",
     "output_type": "stream",
     "text": [
      "[nltk_data] Downloading package stopwords to\n",
      "[nltk_data]     /Users/yarynakorduba/nltk_data...\n",
      "[nltk_data]   Package stopwords is already up-to-date!\n",
      "[nltk_data] Downloading package punkt to\n",
      "[nltk_data]     /Users/yarynakorduba/nltk_data...\n",
      "[nltk_data]   Package punkt is already up-to-date!\n"
     ]
    },
    {
     "data": {
      "text/plain": [
       "True"
      ]
     },
     "execution_count": 48,
     "metadata": {},
     "output_type": "execute_result"
    }
   ],
   "source": [
    "from collections import Counter\n",
    "#downloading stopwords and punkt\n",
    "nltk.download('stopwords')\n",
    "nltk.download('punkt')"
   ]
  },
  {
   "cell_type": "code",
   "execution_count": 49,
   "metadata": {},
   "outputs": [],
   "source": [
    "def lookup_common_words(articles, num_words = 20):\n",
    "    words = []\n",
    "    stop_words = set(nltk.corpus.stopwords.words('english'))\n",
    "    for article in articles:\n",
    "        words.extend(nltk.word_tokenize(article.lower()))\n",
    "    words = [word for word in words if word.isalpha() and word not in stop_words]\n",
    "    word_counts = Counter(words)\n",
    "    return word_counts.most_common(num_words)"
   ]
  },
  {
   "cell_type": "code",
   "execution_count": 18,
   "metadata": {},
   "outputs": [
    {
     "ename": "NameError",
     "evalue": "name 'lookup_common_words' is not defined",
     "output_type": "error",
     "traceback": [
      "\u001b[0;31m---------------------------------------------------------------------------\u001b[0m",
      "\u001b[0;31mNameError\u001b[0m                                 Traceback (most recent call last)",
      "Cell \u001b[0;32mIn[18], line 1\u001b[0m\n\u001b[0;32m----> 1\u001b[0m real_words \u001b[39m=\u001b[39m lookup_common_words(real[\u001b[39m'\u001b[39m\u001b[39marticle\u001b[39m\u001b[39m'\u001b[39m])\n\u001b[1;32m      2\u001b[0m fake_words \u001b[39m=\u001b[39m lookup_common_words(fake[\u001b[39m'\u001b[39m\u001b[39marticle\u001b[39m\u001b[39m'\u001b[39m])\n\u001b[1;32m      3\u001b[0m \u001b[39mprint\u001b[39m(\u001b[39m\"\u001b[39m\u001b[39mReal common words: \u001b[39m\u001b[39m\"\u001b[39m, real_words, real\u001b[39m.\u001b[39mshape)\n",
      "\u001b[0;31mNameError\u001b[0m: name 'lookup_common_words' is not defined"
     ]
    }
   ],
   "source": [
    "real_words = lookup_common_words(real['article'])\n",
    "fake_words = lookup_common_words(fake['article'])\n",
    "print(\"Real common words: \", real_words, real.shape)\n",
    "print(\"Fake common words: \", fake_words, fake.shape)"
   ]
  },
  {
   "attachments": {},
   "cell_type": "markdown",
   "metadata": {},
   "source": [
    "### Adding more features"
   ]
  },
  {
   "cell_type": "code",
   "execution_count": 53,
   "metadata": {},
   "outputs": [],
   "source": [
    "\n",
    "def count_punctuation(column):\n",
    "    count = 0\n",
    "    punctuation = string.punctuation\n",
    "    for token in punctuation:\n",
    "        count += column[\"article\"].count(token)\n",
    "    return count\n",
    "\n",
    "def count_sentences(column):\n",
    "    return len(nltk.sent_tokenize(column[\"article\"]))\n",
    "\n",
    "def count_words(column):\n",
    "    return len(column[\"preprocessed_article\"].split())\n",
    "\n",
    "def count_paragraphs(column):\n",
    "    return ''"
   ]
  },
  {
   "cell_type": "code",
   "execution_count": 54,
   "metadata": {},
   "outputs": [
    {
     "ename": "KeyError",
     "evalue": "'preprocessed_article'",
     "output_type": "error",
     "traceback": [
      "\u001b[0;31m---------------------------------------------------------------------------\u001b[0m",
      "\u001b[0;31mKeyError\u001b[0m                                  Traceback (most recent call last)",
      "File \u001b[0;32m~/miniconda3/lib/python3.9/site-packages/pandas/core/indexes/base.py:3802\u001b[0m, in \u001b[0;36mIndex.get_loc\u001b[0;34m(self, key, method, tolerance)\u001b[0m\n\u001b[1;32m   3801\u001b[0m \u001b[39mtry\u001b[39;00m:\n\u001b[0;32m-> 3802\u001b[0m     \u001b[39mreturn\u001b[39;00m \u001b[39mself\u001b[39;49m\u001b[39m.\u001b[39;49m_engine\u001b[39m.\u001b[39;49mget_loc(casted_key)\n\u001b[1;32m   3803\u001b[0m \u001b[39mexcept\u001b[39;00m \u001b[39mKeyError\u001b[39;00m \u001b[39mas\u001b[39;00m err:\n",
      "File \u001b[0;32m~/miniconda3/lib/python3.9/site-packages/pandas/_libs/index.pyx:138\u001b[0m, in \u001b[0;36mpandas._libs.index.IndexEngine.get_loc\u001b[0;34m()\u001b[0m\n",
      "File \u001b[0;32m~/miniconda3/lib/python3.9/site-packages/pandas/_libs/index.pyx:165\u001b[0m, in \u001b[0;36mpandas._libs.index.IndexEngine.get_loc\u001b[0;34m()\u001b[0m\n",
      "File \u001b[0;32mpandas/_libs/hashtable_class_helper.pxi:5745\u001b[0m, in \u001b[0;36mpandas._libs.hashtable.PyObjectHashTable.get_item\u001b[0;34m()\u001b[0m\n",
      "File \u001b[0;32mpandas/_libs/hashtable_class_helper.pxi:5753\u001b[0m, in \u001b[0;36mpandas._libs.hashtable.PyObjectHashTable.get_item\u001b[0;34m()\u001b[0m\n",
      "\u001b[0;31mKeyError\u001b[0m: 'preprocessed_article'",
      "\nThe above exception was the direct cause of the following exception:\n",
      "\u001b[0;31mKeyError\u001b[0m                                  Traceback (most recent call last)",
      "Cell \u001b[0;32mIn[54], line 4\u001b[0m\n\u001b[1;32m      1\u001b[0m \u001b[39m# head_df =  pd.DataFrame(df.head())\u001b[39;00m\n\u001b[1;32m      3\u001b[0m df[\u001b[39m\"\u001b[39m\u001b[39mpunctuation_count\u001b[39m\u001b[39m\"\u001b[39m] \u001b[39m=\u001b[39m df\u001b[39m.\u001b[39mapply(count_punctuation, axis\u001b[39m=\u001b[39m\u001b[39m1\u001b[39m)\n\u001b[0;32m----> 4\u001b[0m df[\u001b[39m\"\u001b[39m\u001b[39mword_count\u001b[39m\u001b[39m\"\u001b[39m] \u001b[39m=\u001b[39m df\u001b[39m.\u001b[39;49mapply(count_words, axis\u001b[39m=\u001b[39;49m\u001b[39m1\u001b[39;49m)\n\u001b[1;32m      5\u001b[0m df[\u001b[39m\"\u001b[39m\u001b[39msentence_count\u001b[39m\u001b[39m\"\u001b[39m] \u001b[39m=\u001b[39m df\u001b[39m.\u001b[39mapply(count_sentences, axis\u001b[39m=\u001b[39m\u001b[39m1\u001b[39m)\n\u001b[1;32m      6\u001b[0m df[\u001b[39m\"\u001b[39m\u001b[39mpunctuation_percentage\u001b[39m\u001b[39m\"\u001b[39m] \u001b[39m=\u001b[39m df[\u001b[39m\"\u001b[39m\u001b[39mpunctuation_count\u001b[39m\u001b[39m\"\u001b[39m] \u001b[39m/\u001b[39m df[\u001b[39m\"\u001b[39m\u001b[39mword_count\u001b[39m\u001b[39m\"\u001b[39m]\n",
      "File \u001b[0;32m~/miniconda3/lib/python3.9/site-packages/pandas/core/frame.py:9568\u001b[0m, in \u001b[0;36mDataFrame.apply\u001b[0;34m(self, func, axis, raw, result_type, args, **kwargs)\u001b[0m\n\u001b[1;32m   9557\u001b[0m \u001b[39mfrom\u001b[39;00m \u001b[39mpandas\u001b[39;00m\u001b[39m.\u001b[39;00m\u001b[39mcore\u001b[39;00m\u001b[39m.\u001b[39;00m\u001b[39mapply\u001b[39;00m \u001b[39mimport\u001b[39;00m frame_apply\n\u001b[1;32m   9559\u001b[0m op \u001b[39m=\u001b[39m frame_apply(\n\u001b[1;32m   9560\u001b[0m     \u001b[39mself\u001b[39m,\n\u001b[1;32m   9561\u001b[0m     func\u001b[39m=\u001b[39mfunc,\n\u001b[0;32m   (...)\u001b[0m\n\u001b[1;32m   9566\u001b[0m     kwargs\u001b[39m=\u001b[39mkwargs,\n\u001b[1;32m   9567\u001b[0m )\n\u001b[0;32m-> 9568\u001b[0m \u001b[39mreturn\u001b[39;00m op\u001b[39m.\u001b[39;49mapply()\u001b[39m.\u001b[39m__finalize__(\u001b[39mself\u001b[39m, method\u001b[39m=\u001b[39m\u001b[39m\"\u001b[39m\u001b[39mapply\u001b[39m\u001b[39m\"\u001b[39m)\n",
      "File \u001b[0;32m~/miniconda3/lib/python3.9/site-packages/pandas/core/apply.py:764\u001b[0m, in \u001b[0;36mFrameApply.apply\u001b[0;34m(self)\u001b[0m\n\u001b[1;32m    761\u001b[0m \u001b[39melif\u001b[39;00m \u001b[39mself\u001b[39m\u001b[39m.\u001b[39mraw:\n\u001b[1;32m    762\u001b[0m     \u001b[39mreturn\u001b[39;00m \u001b[39mself\u001b[39m\u001b[39m.\u001b[39mapply_raw()\n\u001b[0;32m--> 764\u001b[0m \u001b[39mreturn\u001b[39;00m \u001b[39mself\u001b[39;49m\u001b[39m.\u001b[39;49mapply_standard()\n",
      "File \u001b[0;32m~/miniconda3/lib/python3.9/site-packages/pandas/core/apply.py:891\u001b[0m, in \u001b[0;36mFrameApply.apply_standard\u001b[0;34m(self)\u001b[0m\n\u001b[1;32m    890\u001b[0m \u001b[39mdef\u001b[39;00m \u001b[39mapply_standard\u001b[39m(\u001b[39mself\u001b[39m):\n\u001b[0;32m--> 891\u001b[0m     results, res_index \u001b[39m=\u001b[39m \u001b[39mself\u001b[39;49m\u001b[39m.\u001b[39;49mapply_series_generator()\n\u001b[1;32m    893\u001b[0m     \u001b[39m# wrap results\u001b[39;00m\n\u001b[1;32m    894\u001b[0m     \u001b[39mreturn\u001b[39;00m \u001b[39mself\u001b[39m\u001b[39m.\u001b[39mwrap_results(results, res_index)\n",
      "File \u001b[0;32m~/miniconda3/lib/python3.9/site-packages/pandas/core/apply.py:907\u001b[0m, in \u001b[0;36mFrameApply.apply_series_generator\u001b[0;34m(self)\u001b[0m\n\u001b[1;32m    904\u001b[0m \u001b[39mwith\u001b[39;00m option_context(\u001b[39m\"\u001b[39m\u001b[39mmode.chained_assignment\u001b[39m\u001b[39m\"\u001b[39m, \u001b[39mNone\u001b[39;00m):\n\u001b[1;32m    905\u001b[0m     \u001b[39mfor\u001b[39;00m i, v \u001b[39min\u001b[39;00m \u001b[39menumerate\u001b[39m(series_gen):\n\u001b[1;32m    906\u001b[0m         \u001b[39m# ignore SettingWithCopy here in case the user mutates\u001b[39;00m\n\u001b[0;32m--> 907\u001b[0m         results[i] \u001b[39m=\u001b[39m \u001b[39mself\u001b[39;49m\u001b[39m.\u001b[39;49mf(v)\n\u001b[1;32m    908\u001b[0m         \u001b[39mif\u001b[39;00m \u001b[39misinstance\u001b[39m(results[i], ABCSeries):\n\u001b[1;32m    909\u001b[0m             \u001b[39m# If we have a view on v, we need to make a copy because\u001b[39;00m\n\u001b[1;32m    910\u001b[0m             \u001b[39m#  series_generator will swap out the underlying data\u001b[39;00m\n\u001b[1;32m    911\u001b[0m             results[i] \u001b[39m=\u001b[39m results[i]\u001b[39m.\u001b[39mcopy(deep\u001b[39m=\u001b[39m\u001b[39mFalse\u001b[39;00m)\n",
      "Cell \u001b[0;32mIn[53], line 12\u001b[0m, in \u001b[0;36mcount_words\u001b[0;34m(column)\u001b[0m\n\u001b[1;32m     11\u001b[0m \u001b[39mdef\u001b[39;00m \u001b[39mcount_words\u001b[39m(column):\n\u001b[0;32m---> 12\u001b[0m     \u001b[39mreturn\u001b[39;00m \u001b[39mlen\u001b[39m(column[\u001b[39m\"\u001b[39;49m\u001b[39mpreprocessed_article\u001b[39;49m\u001b[39m\"\u001b[39;49m]\u001b[39m.\u001b[39msplit())\n",
      "File \u001b[0;32m~/miniconda3/lib/python3.9/site-packages/pandas/core/series.py:981\u001b[0m, in \u001b[0;36mSeries.__getitem__\u001b[0;34m(self, key)\u001b[0m\n\u001b[1;32m    978\u001b[0m     \u001b[39mreturn\u001b[39;00m \u001b[39mself\u001b[39m\u001b[39m.\u001b[39m_values[key]\n\u001b[1;32m    980\u001b[0m \u001b[39melif\u001b[39;00m key_is_scalar:\n\u001b[0;32m--> 981\u001b[0m     \u001b[39mreturn\u001b[39;00m \u001b[39mself\u001b[39;49m\u001b[39m.\u001b[39;49m_get_value(key)\n\u001b[1;32m    983\u001b[0m \u001b[39mif\u001b[39;00m is_hashable(key):\n\u001b[1;32m    984\u001b[0m     \u001b[39m# Otherwise index.get_value will raise InvalidIndexError\u001b[39;00m\n\u001b[1;32m    985\u001b[0m     \u001b[39mtry\u001b[39;00m:\n\u001b[1;32m    986\u001b[0m         \u001b[39m# For labels that don't resolve as scalars like tuples and frozensets\u001b[39;00m\n",
      "File \u001b[0;32m~/miniconda3/lib/python3.9/site-packages/pandas/core/series.py:1089\u001b[0m, in \u001b[0;36mSeries._get_value\u001b[0;34m(self, label, takeable)\u001b[0m\n\u001b[1;32m   1086\u001b[0m     \u001b[39mreturn\u001b[39;00m \u001b[39mself\u001b[39m\u001b[39m.\u001b[39m_values[label]\n\u001b[1;32m   1088\u001b[0m \u001b[39m# Similar to Index.get_value, but we do not fall back to positional\u001b[39;00m\n\u001b[0;32m-> 1089\u001b[0m loc \u001b[39m=\u001b[39m \u001b[39mself\u001b[39;49m\u001b[39m.\u001b[39;49mindex\u001b[39m.\u001b[39;49mget_loc(label)\n\u001b[1;32m   1090\u001b[0m \u001b[39mreturn\u001b[39;00m \u001b[39mself\u001b[39m\u001b[39m.\u001b[39mindex\u001b[39m.\u001b[39m_get_values_for_loc(\u001b[39mself\u001b[39m, loc, label)\n",
      "File \u001b[0;32m~/miniconda3/lib/python3.9/site-packages/pandas/core/indexes/base.py:3804\u001b[0m, in \u001b[0;36mIndex.get_loc\u001b[0;34m(self, key, method, tolerance)\u001b[0m\n\u001b[1;32m   3802\u001b[0m     \u001b[39mreturn\u001b[39;00m \u001b[39mself\u001b[39m\u001b[39m.\u001b[39m_engine\u001b[39m.\u001b[39mget_loc(casted_key)\n\u001b[1;32m   3803\u001b[0m \u001b[39mexcept\u001b[39;00m \u001b[39mKeyError\u001b[39;00m \u001b[39mas\u001b[39;00m err:\n\u001b[0;32m-> 3804\u001b[0m     \u001b[39mraise\u001b[39;00m \u001b[39mKeyError\u001b[39;00m(key) \u001b[39mfrom\u001b[39;00m \u001b[39merr\u001b[39;00m\n\u001b[1;32m   3805\u001b[0m \u001b[39mexcept\u001b[39;00m \u001b[39mTypeError\u001b[39;00m:\n\u001b[1;32m   3806\u001b[0m     \u001b[39m# If we have a listlike key, _check_indexing_error will raise\u001b[39;00m\n\u001b[1;32m   3807\u001b[0m     \u001b[39m#  InvalidIndexError. Otherwise we fall through and re-raise\u001b[39;00m\n\u001b[1;32m   3808\u001b[0m     \u001b[39m#  the TypeError.\u001b[39;00m\n\u001b[1;32m   3809\u001b[0m     \u001b[39mself\u001b[39m\u001b[39m.\u001b[39m_check_indexing_error(key)\n",
      "\u001b[0;31mKeyError\u001b[0m: 'preprocessed_article'"
     ]
    }
   ],
   "source": [
    "# # head_df =  pd.DataFrame(df.head())\n",
    "\n",
    "# df[\"punctuation_count\"] = df.apply(count_punctuation, axis=1)\n",
    "# df[\"word_count\"] = df.apply(count_words, axis=1)\n",
    "# df[\"sentence_count\"] = df.apply(count_sentences, axis=1)\n",
    "# df[\"punctuation_percentage\"] = df[\"punctuation_count\"] / df[\"word_count\"]\n",
    "# df[\"average_words_in_sentence\"] = df[\"word_count\"] / df[\"sentence_count\"]\n"
   ]
  },
  {
   "cell_type": "code",
   "execution_count": 23,
   "metadata": {},
   "outputs": [
    {
     "data": {
      "text/html": [
       "<div>\n",
       "<style scoped>\n",
       "    .dataframe tbody tr th:only-of-type {\n",
       "        vertical-align: middle;\n",
       "    }\n",
       "\n",
       "    .dataframe tbody tr th {\n",
       "        vertical-align: top;\n",
       "    }\n",
       "\n",
       "    .dataframe thead th {\n",
       "        text-align: right;\n",
       "    }\n",
       "</style>\n",
       "<table border=\"1\" class=\"dataframe\">\n",
       "  <thead>\n",
       "    <tr style=\"text-align: right;\">\n",
       "      <th></th>\n",
       "      <th>Unnamed: 0</th>\n",
       "      <th>article</th>\n",
       "      <th>source</th>\n",
       "      <th>labels</th>\n",
       "      <th>punctuation_count</th>\n",
       "      <th>word_count</th>\n",
       "      <th>sentence_count</th>\n",
       "    </tr>\n",
       "  </thead>\n",
       "  <tbody>\n",
       "    <tr>\n",
       "      <th>0</th>\n",
       "      <td>0</td>\n",
       "      <td>When I first started looking at oil assets, I ...</td>\n",
       "      <td>own_source_lessthan50</td>\n",
       "      <td>0.0</td>\n",
       "      <td>99</td>\n",
       "      <td>574</td>\n",
       "      <td>36</td>\n",
       "    </tr>\n",
       "    <tr>\n",
       "      <th>1</th>\n",
       "      <td>1</td>\n",
       "      <td>We look at two airlines that have given Wall S...</td>\n",
       "      <td>own_source_morethan50</td>\n",
       "      <td>0.0</td>\n",
       "      <td>180</td>\n",
       "      <td>701</td>\n",
       "      <td>60</td>\n",
       "    </tr>\n",
       "    <tr>\n",
       "      <th>2</th>\n",
       "      <td>2</td>\n",
       "      <td>Disney's Animal Kingdom theme park is staging ...</td>\n",
       "      <td>own_source_lessthan50</td>\n",
       "      <td>0.0</td>\n",
       "      <td>141</td>\n",
       "      <td>730</td>\n",
       "      <td>41</td>\n",
       "    </tr>\n",
       "    <tr>\n",
       "      <th>3</th>\n",
       "      <td>3</td>\n",
       "      <td>Why should you think otherwise? If the effort ...</td>\n",
       "      <td>own_source_lessthan50</td>\n",
       "      <td>0.0</td>\n",
       "      <td>44</td>\n",
       "      <td>467</td>\n",
       "      <td>26</td>\n",
       "    </tr>\n",
       "    <tr>\n",
       "      <th>4</th>\n",
       "      <td>4</td>\n",
       "      <td>Chris Murphy, Carolyn Maloney and Doug Jones i...</td>\n",
       "      <td>own_source_lessthan50</td>\n",
       "      <td>0.0</td>\n",
       "      <td>83</td>\n",
       "      <td>640</td>\n",
       "      <td>34</td>\n",
       "    </tr>\n",
       "  </tbody>\n",
       "</table>\n",
       "</div>"
      ],
      "text/plain": [
       "   Unnamed: 0                                            article  \\\n",
       "0           0  When I first started looking at oil assets, I ...   \n",
       "1           1  We look at two airlines that have given Wall S...   \n",
       "2           2  Disney's Animal Kingdom theme park is staging ...   \n",
       "3           3  Why should you think otherwise? If the effort ...   \n",
       "4           4  Chris Murphy, Carolyn Maloney and Doug Jones i...   \n",
       "\n",
       "                  source  labels  punctuation_count  word_count  \\\n",
       "0  own_source_lessthan50     0.0                 99         574   \n",
       "1  own_source_morethan50     0.0                180         701   \n",
       "2  own_source_lessthan50     0.0                141         730   \n",
       "3  own_source_lessthan50     0.0                 44         467   \n",
       "4  own_source_lessthan50     0.0                 83         640   \n",
       "\n",
       "   sentence_count  \n",
       "0              36  \n",
       "1              60  \n",
       "2              41  \n",
       "3              26  \n",
       "4              34  "
      ]
     },
     "execution_count": 23,
     "metadata": {},
     "output_type": "execute_result"
    }
   ],
   "source": [
    "# head_df"
   ]
  },
  {
   "cell_type": "code",
   "execution_count": 55,
   "metadata": {},
   "outputs": [
    {
     "data": {
      "text/html": [
       "<div>\n",
       "<style scoped>\n",
       "    .dataframe tbody tr th:only-of-type {\n",
       "        vertical-align: middle;\n",
       "    }\n",
       "\n",
       "    .dataframe tbody tr th {\n",
       "        vertical-align: top;\n",
       "    }\n",
       "\n",
       "    .dataframe thead th {\n",
       "        text-align: right;\n",
       "    }\n",
       "</style>\n",
       "<table border=\"1\" class=\"dataframe\">\n",
       "  <thead>\n",
       "    <tr style=\"text-align: right;\">\n",
       "      <th></th>\n",
       "      <th>Unnamed: 0</th>\n",
       "      <th>article</th>\n",
       "      <th>source</th>\n",
       "      <th>labels</th>\n",
       "      <th>punctuation_count</th>\n",
       "    </tr>\n",
       "  </thead>\n",
       "  <tbody>\n",
       "    <tr>\n",
       "      <th>0</th>\n",
       "      <td>0</td>\n",
       "      <td>When I first started looking at oil assets, I ...</td>\n",
       "      <td>own_source_lessthan50</td>\n",
       "      <td>0.0</td>\n",
       "      <td>99</td>\n",
       "    </tr>\n",
       "    <tr>\n",
       "      <th>1</th>\n",
       "      <td>1</td>\n",
       "      <td>We look at two airlines that have given Wall S...</td>\n",
       "      <td>own_source_morethan50</td>\n",
       "      <td>0.0</td>\n",
       "      <td>180</td>\n",
       "    </tr>\n",
       "    <tr>\n",
       "      <th>2</th>\n",
       "      <td>2</td>\n",
       "      <td>Disney's Animal Kingdom theme park is staging ...</td>\n",
       "      <td>own_source_lessthan50</td>\n",
       "      <td>0.0</td>\n",
       "      <td>141</td>\n",
       "    </tr>\n",
       "    <tr>\n",
       "      <th>3</th>\n",
       "      <td>3</td>\n",
       "      <td>Why should you think otherwise? If the effort ...</td>\n",
       "      <td>own_source_lessthan50</td>\n",
       "      <td>0.0</td>\n",
       "      <td>44</td>\n",
       "    </tr>\n",
       "    <tr>\n",
       "      <th>4</th>\n",
       "      <td>4</td>\n",
       "      <td>Chris Murphy, Carolyn Maloney and Doug Jones i...</td>\n",
       "      <td>own_source_lessthan50</td>\n",
       "      <td>0.0</td>\n",
       "      <td>83</td>\n",
       "    </tr>\n",
       "    <tr>\n",
       "      <th>...</th>\n",
       "      <td>...</td>\n",
       "      <td>...</td>\n",
       "      <td>...</td>\n",
       "      <td>...</td>\n",
       "      <td>...</td>\n",
       "    </tr>\n",
       "    <tr>\n",
       "      <th>24989</th>\n",
       "      <td>4995</td>\n",
       "      <td>A FASCINATING video has illustrated the evolut...</td>\n",
       "      <td>read_text_lessthan50</td>\n",
       "      <td>1.0</td>\n",
       "      <td>75</td>\n",
       "    </tr>\n",
       "    <tr>\n",
       "      <th>24990</th>\n",
       "      <td>4996</td>\n",
       "      <td>BUENA VISTA TWP, MI — Officials in Buena Vista...</td>\n",
       "      <td>read_text_lessthan50</td>\n",
       "      <td>1.0</td>\n",
       "      <td>37</td>\n",
       "    </tr>\n",
       "    <tr>\n",
       "      <th>24991</th>\n",
       "      <td>4997</td>\n",
       "      <td>Do you have several hours to kill while waitin...</td>\n",
       "      <td>read_text_lessthan50</td>\n",
       "      <td>1.0</td>\n",
       "      <td>141</td>\n",
       "    </tr>\n",
       "    <tr>\n",
       "      <th>24992</th>\n",
       "      <td>4998</td>\n",
       "      <td>A massive fire completely destroyed the roof a...</td>\n",
       "      <td>read_text_lessthan50</td>\n",
       "      <td>1.0</td>\n",
       "      <td>36</td>\n",
       "    </tr>\n",
       "    <tr>\n",
       "      <th>24993</th>\n",
       "      <td>4999</td>\n",
       "      <td>This story is part of Fast Company‘s Gender Pa...</td>\n",
       "      <td>read_text_lessthan50</td>\n",
       "      <td>1.0</td>\n",
       "      <td>72</td>\n",
       "    </tr>\n",
       "  </tbody>\n",
       "</table>\n",
       "<p>24994 rows × 5 columns</p>\n",
       "</div>"
      ],
      "text/plain": [
       "       Unnamed: 0                                            article  \\\n",
       "0               0  When I first started looking at oil assets, I ...   \n",
       "1               1  We look at two airlines that have given Wall S...   \n",
       "2               2  Disney's Animal Kingdom theme park is staging ...   \n",
       "3               3  Why should you think otherwise? If the effort ...   \n",
       "4               4  Chris Murphy, Carolyn Maloney and Doug Jones i...   \n",
       "...           ...                                                ...   \n",
       "24989        4995  A FASCINATING video has illustrated the evolut...   \n",
       "24990        4996  BUENA VISTA TWP, MI — Officials in Buena Vista...   \n",
       "24991        4997  Do you have several hours to kill while waitin...   \n",
       "24992        4998  A massive fire completely destroyed the roof a...   \n",
       "24993        4999  This story is part of Fast Company‘s Gender Pa...   \n",
       "\n",
       "                      source  labels  punctuation_count  \n",
       "0      own_source_lessthan50     0.0                 99  \n",
       "1      own_source_morethan50     0.0                180  \n",
       "2      own_source_lessthan50     0.0                141  \n",
       "3      own_source_lessthan50     0.0                 44  \n",
       "4      own_source_lessthan50     0.0                 83  \n",
       "...                      ...     ...                ...  \n",
       "24989   read_text_lessthan50     1.0                 75  \n",
       "24990   read_text_lessthan50     1.0                 37  \n",
       "24991   read_text_lessthan50     1.0                141  \n",
       "24992   read_text_lessthan50     1.0                 36  \n",
       "24993   read_text_lessthan50     1.0                 72  \n",
       "\n",
       "[24994 rows x 5 columns]"
      ]
     },
     "execution_count": 55,
     "metadata": {},
     "output_type": "execute_result"
    }
   ],
   "source": [
    "df"
   ]
  },
  {
   "cell_type": "code",
   "execution_count": 57,
   "metadata": {},
   "outputs": [
    {
     "ename": "KeyError",
     "evalue": "'punctuation_percentage'",
     "output_type": "error",
     "traceback": [
      "\u001b[0;31m---------------------------------------------------------------------------\u001b[0m",
      "\u001b[0;31mKeyError\u001b[0m                                  Traceback (most recent call last)",
      "File \u001b[0;32m~/miniconda3/lib/python3.9/site-packages/pandas/core/indexes/base.py:3802\u001b[0m, in \u001b[0;36mIndex.get_loc\u001b[0;34m(self, key, method, tolerance)\u001b[0m\n\u001b[1;32m   3801\u001b[0m \u001b[39mtry\u001b[39;00m:\n\u001b[0;32m-> 3802\u001b[0m     \u001b[39mreturn\u001b[39;00m \u001b[39mself\u001b[39;49m\u001b[39m.\u001b[39;49m_engine\u001b[39m.\u001b[39;49mget_loc(casted_key)\n\u001b[1;32m   3803\u001b[0m \u001b[39mexcept\u001b[39;00m \u001b[39mKeyError\u001b[39;00m \u001b[39mas\u001b[39;00m err:\n",
      "File \u001b[0;32m~/miniconda3/lib/python3.9/site-packages/pandas/_libs/index.pyx:138\u001b[0m, in \u001b[0;36mpandas._libs.index.IndexEngine.get_loc\u001b[0;34m()\u001b[0m\n",
      "File \u001b[0;32m~/miniconda3/lib/python3.9/site-packages/pandas/_libs/index.pyx:165\u001b[0m, in \u001b[0;36mpandas._libs.index.IndexEngine.get_loc\u001b[0;34m()\u001b[0m\n",
      "File \u001b[0;32mpandas/_libs/hashtable_class_helper.pxi:5745\u001b[0m, in \u001b[0;36mpandas._libs.hashtable.PyObjectHashTable.get_item\u001b[0;34m()\u001b[0m\n",
      "File \u001b[0;32mpandas/_libs/hashtable_class_helper.pxi:5753\u001b[0m, in \u001b[0;36mpandas._libs.hashtable.PyObjectHashTable.get_item\u001b[0;34m()\u001b[0m\n",
      "\u001b[0;31mKeyError\u001b[0m: 'punctuation_percentage'",
      "\nThe above exception was the direct cause of the following exception:\n",
      "\u001b[0;31mKeyError\u001b[0m                                  Traceback (most recent call last)",
      "Cell \u001b[0;32mIn[57], line 1\u001b[0m\n\u001b[0;32m----> 1\u001b[0m real_plt \u001b[39m=\u001b[39m real_f[\u001b[39m\"\u001b[39;49m\u001b[39mpunctuation_percentage\u001b[39;49m\u001b[39m\"\u001b[39;49m]\u001b[39m.\u001b[39mapply(\u001b[39mlambda\u001b[39;00m x: x)\n\u001b[1;32m      2\u001b[0m fake_plt \u001b[39m=\u001b[39m fake_f[\u001b[39m\"\u001b[39m\u001b[39mpunctuation_percentage\u001b[39m\u001b[39m\"\u001b[39m]\u001b[39m.\u001b[39mapply(\u001b[39mlambda\u001b[39;00m x: x)\n\u001b[1;32m      3\u001b[0m plt\u001b[39m.\u001b[39mhist(real_plt, bins\u001b[39m=\u001b[39m\u001b[39m100\u001b[39m, alpha\u001b[39m=\u001b[39m\u001b[39m0.5\u001b[39m, label\u001b[39m=\u001b[39m\u001b[39m'\u001b[39m\u001b[39mReal\u001b[39m\u001b[39m'\u001b[39m)\n",
      "File \u001b[0;32m~/miniconda3/lib/python3.9/site-packages/pandas/core/frame.py:3807\u001b[0m, in \u001b[0;36mDataFrame.__getitem__\u001b[0;34m(self, key)\u001b[0m\n\u001b[1;32m   3805\u001b[0m \u001b[39mif\u001b[39;00m \u001b[39mself\u001b[39m\u001b[39m.\u001b[39mcolumns\u001b[39m.\u001b[39mnlevels \u001b[39m>\u001b[39m \u001b[39m1\u001b[39m:\n\u001b[1;32m   3806\u001b[0m     \u001b[39mreturn\u001b[39;00m \u001b[39mself\u001b[39m\u001b[39m.\u001b[39m_getitem_multilevel(key)\n\u001b[0;32m-> 3807\u001b[0m indexer \u001b[39m=\u001b[39m \u001b[39mself\u001b[39;49m\u001b[39m.\u001b[39;49mcolumns\u001b[39m.\u001b[39;49mget_loc(key)\n\u001b[1;32m   3808\u001b[0m \u001b[39mif\u001b[39;00m is_integer(indexer):\n\u001b[1;32m   3809\u001b[0m     indexer \u001b[39m=\u001b[39m [indexer]\n",
      "File \u001b[0;32m~/miniconda3/lib/python3.9/site-packages/pandas/core/indexes/base.py:3804\u001b[0m, in \u001b[0;36mIndex.get_loc\u001b[0;34m(self, key, method, tolerance)\u001b[0m\n\u001b[1;32m   3802\u001b[0m     \u001b[39mreturn\u001b[39;00m \u001b[39mself\u001b[39m\u001b[39m.\u001b[39m_engine\u001b[39m.\u001b[39mget_loc(casted_key)\n\u001b[1;32m   3803\u001b[0m \u001b[39mexcept\u001b[39;00m \u001b[39mKeyError\u001b[39;00m \u001b[39mas\u001b[39;00m err:\n\u001b[0;32m-> 3804\u001b[0m     \u001b[39mraise\u001b[39;00m \u001b[39mKeyError\u001b[39;00m(key) \u001b[39mfrom\u001b[39;00m \u001b[39merr\u001b[39;00m\n\u001b[1;32m   3805\u001b[0m \u001b[39mexcept\u001b[39;00m \u001b[39mTypeError\u001b[39;00m:\n\u001b[1;32m   3806\u001b[0m     \u001b[39m# If we have a listlike key, _check_indexing_error will raise\u001b[39;00m\n\u001b[1;32m   3807\u001b[0m     \u001b[39m#  InvalidIndexError. Otherwise we fall through and re-raise\u001b[39;00m\n\u001b[1;32m   3808\u001b[0m     \u001b[39m#  the TypeError.\u001b[39;00m\n\u001b[1;32m   3809\u001b[0m     \u001b[39mself\u001b[39m\u001b[39m.\u001b[39m_check_indexing_error(key)\n",
      "\u001b[0;31mKeyError\u001b[0m: 'punctuation_percentage'"
     ]
    }
   ],
   "source": [
    "real_f = df[df['labels'] == 1]\n",
    "fake_f = df[df['labels'] == 0]\n",
    "real_plt = real_f[\"punctuation_percentage\"].apply(lambda x: x)\n",
    "fake_plt = fake_f[\"punctuation_percentage\"].apply(lambda x: x)\n",
    "plt.hist(real_plt, bins=100, alpha=0.5, label='Real')\n",
    "plt.hist(fake_plt, bins=100, alpha=0.5, label='Fake')\n",
    "\n",
    "plt.title('Punctuation percentage')\n",
    "plt.xlabel('Length')\n",
    "plt.ylabel('Count')\n",
    "plt.legend()\n",
    "plt.show()"
   ]
  },
  {
   "cell_type": "code",
   "execution_count": 38,
   "metadata": {},
   "outputs": [
    {
     "data": {
      "image/png": "[encoded data removed]",
      "text/plain": [
       "<Figure size 640x480 with 1 Axes>"
      ]
     },
     "metadata": {},
     "output_type": "display_data"
    }
   ],
   "source": [
    "real_plt = real_f[\"average_words_in_sentence\"].apply(lambda x: x)\n",
    "fake_plt = fake_f[\"average_words_in_sentence\"].apply(lambda x: x)\n",
    "plt.hist(real_plt, bins=100, alpha=0.5, label='Real')\n",
    "plt.hist(fake_plt, bins=100, alpha=0.5, label='Fake')\n",
    "\n",
    "plt.title('Avg words in sentence')\n",
    "plt.xlabel('Length')\n",
    "plt.ylabel('Count')\n",
    "plt.legend()\n",
    "plt.show()"
   ]
  },
  {
   "attachments": {},
   "cell_type": "markdown",
   "metadata": {},
   "source": [
    "# Text preprocessing"
   ]
  },
  {
   "cell_type": "code",
   "execution_count": 58,
   "metadata": {},
   "outputs": [
    {
     "name": "stderr",
     "output_type": "stream",
     "text": [
      "[nltk_data] Downloading package wordnet to\n",
      "[nltk_data]     /Users/yarynakorduba/nltk_data...\n",
      "[nltk_data]   Package wordnet is already up-to-date!\n"
     ]
    },
    {
     "data": {
      "text/plain": [
       "True"
      ]
     },
     "execution_count": 58,
     "metadata": {},
     "output_type": "execute_result"
    }
   ],
   "source": [
    "from nltk.corpus import stopwords\n",
    "from nltk.tokenize import word_tokenize\n",
    "from nltk.stem import PorterStemmer, WordNetLemmatizer\n",
    "import string\n",
    "# large lexical database of English\n",
    "nltk.download('wordnet')"
   ]
  },
  {
   "cell_type": "code",
   "execution_count": 59,
   "metadata": {},
   "outputs": [],
   "source": [
    "stop_words = set(stopwords.words('english'))\n",
    "stemmer = PorterStemmer()\n",
    "lemmatizer = WordNetLemmatizer()"
   ]
  },
  {
   "cell_type": "code",
   "execution_count": 60,
   "metadata": {},
   "outputs": [],
   "source": [
    "def preprocess_text(text):\n",
    "    # Lowercase the text\n",
    "    text = text.lower()\n",
    "\n",
    "    # Remove punctuation and digits\n",
    "    text = text.translate(str.maketrans('', '', string.punctuation + string.digits))\n",
    "\n",
    "    # Tokenize the text\n",
    "    words = word_tokenize(text)\n",
    "\n",
    "    # Remove stop words\n",
    "    words = [word for word in words if word not in stop_words]\n",
    "\n",
    "    # Stem or lemmatize the words\n",
    "    words = [stemmer.stem(word) for word in words]\n",
    "   \n",
    "        # Join the words back into a string\n",
    "    text = ' '.join(words)\n",
    "\n",
    "    return text"
   ]
  },
  {
   "cell_type": "code",
   "execution_count": 61,
   "metadata": {},
   "outputs": [],
   "source": [
    "# real['article'] = real['article'].apply(preprocess_text)\n",
    "# fake['article'] = fake['article'].apply(preprocess_text)\n",
    "\n",
    "df[\"preprocessed_article\"] = df[\"article\"].apply(preprocess_text)"
   ]
  },
  {
   "cell_type": "code",
   "execution_count": 62,
   "metadata": {},
   "outputs": [
    {
     "name": "stdout",
     "output_type": "stream",
     "text": [
      "       Unnamed: 0                                            article  \\\n",
      "0               0  When I first started looking at oil assets, I ...   \n",
      "1               1  We look at two airlines that have given Wall S...   \n",
      "2               2  Disney's Animal Kingdom theme park is staging ...   \n",
      "3               3  Why should you think otherwise? If the effort ...   \n",
      "4               4  Chris Murphy, Carolyn Maloney and Doug Jones i...   \n",
      "...           ...                                                ...   \n",
      "24989        4995  A FASCINATING video has illustrated the evolut...   \n",
      "24990        4996  BUENA VISTA TWP, MI — Officials in Buena Vista...   \n",
      "24991        4997  Do you have several hours to kill while waitin...   \n",
      "24992        4998  A massive fire completely destroyed the roof a...   \n",
      "24993        4999  This story is part of Fast Company‘s Gender Pa...   \n",
      "\n",
      "                      source  labels  punctuation_count  \\\n",
      "0      own_source_lessthan50     0.0                 99   \n",
      "1      own_source_morethan50     0.0                180   \n",
      "2      own_source_lessthan50     0.0                141   \n",
      "3      own_source_lessthan50     0.0                 44   \n",
      "4      own_source_lessthan50     0.0                 83   \n",
      "...                      ...     ...                ...   \n",
      "24989   read_text_lessthan50     1.0                 75   \n",
      "24990   read_text_lessthan50     1.0                 37   \n",
      "24991   read_text_lessthan50     1.0                141   \n",
      "24992   read_text_lessthan50     1.0                 36   \n",
      "24993   read_text_lessthan50     1.0                 72   \n",
      "\n",
      "                                    preprocessed_article  \n",
      "0      first start look oil asset attract vertic dril...  \n",
      "1      look two airlin given wall street posit surpri...  \n",
      "2      disney anim kingdom theme park stage haramb ni...  \n",
      "3      think otherwis effort record friday night indi...  \n",
      "4      chri murphi carolyn maloney doug jone washingt...  \n",
      "...                                                  ...  \n",
      "24989  fascin video illustr evolut car manufactur pas...  \n",
      "24990  buena vista twp mi — offici buena vista townsh...  \n",
      "24991  sever hour kill wait connect flight boston ’ l...  \n",
      "24992  massiv fire complet destroy roof spire icon no...  \n",
      "24993  stori part fast compani ‘ gender pay gap packa...  \n",
      "\n",
      "[24994 rows x 6 columns]\n"
     ]
    }
   ],
   "source": [
    "print(df)"
   ]
  },
  {
   "cell_type": "code",
   "execution_count": 71,
   "metadata": {},
   "outputs": [],
   "source": [
    "\n",
    "def count_punctuation(column):\n",
    "    count = 0\n",
    "    punctuation = string.punctuation\n",
    "    for token in punctuation:\n",
    "        count += column[\"article\"].count(token)\n",
    "    return count\n",
    "\n",
    "def count_commas(column):\n",
    "    count = 0\n",
    "    punctuation = \",\"\n",
    "    for token in punctuation:\n",
    "        count += column[\"article\"].count(token)\n",
    "    return count\n",
    "\n",
    "def count_sentences(column):\n",
    "    return len(nltk.sent_tokenize(column[\"article\"]))\n",
    "\n",
    "def count_words(column):\n",
    "    return len(column[\"preprocessed_article\"].split())\n",
    "\n",
    "def count_paragraphs(column):\n",
    "    return ''"
   ]
  },
  {
   "cell_type": "code",
   "execution_count": 79,
   "metadata": {},
   "outputs": [],
   "source": [
    "# head_df =  pd.DataFrame(df.head())\n",
    "\n",
    "df[\"punctuation_count\"] = df.apply(count_punctuation, axis=1)\n",
    "df[\"comma_count\"] = df.apply(count_commas, axis=1)\n",
    "df[\"word_count\"] = df.apply(count_words, axis=1)\n",
    "df[\"sentence_count\"] = df.apply(count_sentences, axis=1)\n",
    "df[\"punctuation_percentage\"] = df[\"punctuation_count\"] / df[\"word_count\"]\n",
    "df[\"comma_percentage\"] = df[\"comma_count\"] / df[\"word_count\"]\n",
    "\n",
    "df[\"average_words_in_sentence\"] = df[\"word_count\"] / df[\"sentence_count\"]\n"
   ]
  },
  {
   "cell_type": "code",
   "execution_count": 80,
   "metadata": {},
   "outputs": [
    {
     "data": {
      "image/png": "[encoded data removed]",
      "text/plain": [
       "<Figure size 640x480 with 1 Axes>"
      ]
     },
     "metadata": {},
     "output_type": "display_data"
    },
    {
     "name": "stdout",
     "output_type": "stream",
     "text": [
      "Punctuation percentage in real data:  0.32082237397385827\n",
      "Punctuation percentage in generated data:  0.28787655940454815\n"
     ]
    }
   ],
   "source": [
    "real_f = df[df['labels'] == 1]\n",
    "fake_f = df[df['labels'] == 0]\n",
    "real_plt = real_f[\"punctuation_percentage\"].apply(lambda x: x)\n",
    "fake_plt = fake_f[\"punctuation_percentage\"].apply(lambda x: x)\n",
    "plt.hist(real_plt, bins=100, alpha=0.5, label='Real')\n",
    "plt.hist(fake_plt, bins=100, alpha=0.5, label='Fake')\n",
    "\n",
    "plt.title('Punctuation percentage')\n",
    "plt.xlabel('Length')\n",
    "plt.ylabel('Count')\n",
    "plt.legend()\n",
    "plt.show()\n",
    "\n",
    "avg_real = real_f[\"punctuation_percentage\"].mean()\n",
    "avg_fake = fake_f[\"punctuation_percentage\"].mean()\n",
    "\n",
    "print(\"Punctuation percentage in real data: \", avg_real)\n",
    "print(\"Punctuation percentage in generated data: \", avg_fake)\n",
    "\n"
   ]
  },
  {
   "cell_type": "code",
   "execution_count": 76,
   "metadata": {},
   "outputs": [
    {
     "data": {
      "image/png": "[encoded data removed]",
      "text/plain": [
       "<Figure size 640x480 with 1 Axes>"
      ]
     },
     "metadata": {},
     "output_type": "display_data"
    },
    {
     "name": "stdout",
     "output_type": "stream",
     "text": [
      "Average words per sentence in real data:  12.976381078543126\n",
      "Average words per sentence in generated data:  13.007233414848331\n"
     ]
    }
   ],
   "source": [
    "real_plt = real_f[\"average_words_in_sentence\"].apply(lambda x: x)\n",
    "fake_plt = fake_f[\"average_words_in_sentence\"].apply(lambda x: x)\n",
    "plt.hist(real_plt, bins=100, alpha=0.5, label='Real')\n",
    "plt.hist(fake_plt, bins=100, alpha=0.5, label='Fake')\n",
    "\n",
    "plt.title('Avg words in sentence')\n",
    "plt.xlabel('Length')\n",
    "plt.ylabel('Count')\n",
    "plt.legend()\n",
    "plt.show()\n",
    "\n",
    "avg_real = real_f[\"average_words_in_sentence\"].mean()\n",
    "avg_fake = fake_f[\"average_words_in_sentence\"].mean()\n",
    "\n",
    "print(\"Average words per sentence in real data: \", avg_real)\n",
    "print(\"Average words per sentence in generated data: \", avg_fake)"
   ]
  },
  {
   "cell_type": "code",
   "execution_count": 81,
   "metadata": {},
   "outputs": [
    {
     "data": {
      "image/png": "[encoded data removed]",
      "text/plain": [
       "<Figure size 640x480 with 1 Axes>"
      ]
     },
     "metadata": {},
     "output_type": "display_data"
    },
    {
     "name": "stdout",
     "output_type": "stream",
     "text": [
      "Average commas to words in real data:  0.09062055202468125\n",
      "Average commas to words in generated data:  0.08961316633602567\n"
     ]
    }
   ],
   "source": [
    "real_plt = real_f[\"comma_percentage\"].apply(lambda x: x)\n",
    "fake_plt = fake_f[\"comma_percentage\"].apply(lambda x: x)\n",
    "plt.hist(real_plt, bins=100, alpha=0.5, label='Real')\n",
    "plt.hist(fake_plt, bins=100, alpha=0.5, label='Fake')\n",
    "\n",
    "plt.title('Commas to words ratio')\n",
    "plt.xlabel('Commas / Words')\n",
    "plt.ylabel('Count')\n",
    "plt.legend()\n",
    "plt.show()\n",
    "\n",
    "avg_real = real_f[\"comma_percentage\"].mean()\n",
    "avg_fake = fake_f[\"comma_percentage\"].mean()\n",
    "\n",
    "print(\"Average commas to words in real data: \", avg_real)\n",
    "print(\"Average commas to words in generated data: \", avg_fake)"
   ]
  },
  {
   "cell_type": "code",
   "execution_count": 82,
   "metadata": {},
   "outputs": [
    {
     "data": {
      "image/png": "[encoded data removed]",
      "text/plain": [
       "<Figure size 640x480 with 1 Axes>"
      ]
     },
     "metadata": {},
     "output_type": "display_data"
    },
    {
     "name": "stdout",
     "output_type": "stream",
     "text": [
      "Average commas in real data:  56.08571428571429\n",
      "Average commas in generated data:  48.36645213193886\n"
     ]
    }
   ],
   "source": [
    "real_plt = real_f[\"comma_count\"].apply(lambda x: x)\n",
    "fake_plt = fake_f[\"comma_count\"].apply(lambda x: x)\n",
    "plt.hist(real_plt, bins=100, alpha=0.5, label='Real')\n",
    "plt.hist(fake_plt, bins=100, alpha=0.5, label='Fake')\n",
    "\n",
    "plt.title('Commas ratio')\n",
    "plt.xlabel('Commas')\n",
    "plt.ylabel('Count')\n",
    "plt.legend()\n",
    "plt.show()\n",
    "\n",
    "avg_real = real_f[\"comma_count\"].mean()\n",
    "avg_fake = fake_f[\"comma_count\"].mean()\n",
    "\n",
    "print(\"Average commas in real data: \", avg_real)\n",
    "print(\"Average commas in generated data: \", avg_fake)"
   ]
  },
  {
   "cell_type": "code",
   "execution_count": 104,
   "metadata": {},
   "outputs": [
    {
     "name": "stdout",
     "output_type": "stream",
     "text": [
      "(540, 12) (1970, 12)\n",
      "(540,) (540,)\n",
      "Commas in real data (in total 9000 records) / Commas in all data:  0.4722603808929129\n",
      "Commas in fake data (in total 9000 records) / Commas in all data:  0.5277396191070871\n"
     ]
    }
   ],
   "source": [
    "real_f = df[df['labels'] == 1]\n",
    "fake_f = df[df['labels'] == 0]\n",
    "r_f = real_f[real_f['sentence_count'] == 50]\n",
    "f_f = fake_f[fake_f['sentence_count'] == 50 ]\n",
    "\n",
    "print(r_f.shape, f_f.shape)\n",
    "\n",
    "real_9000 = r_f[\"comma_count\"][:540]\n",
    "fake_9000 = f_f[\"comma_count\"][:540]\n",
    "\n",
    "print(real_9000.shape, fake_9000.shape)\n",
    "\n",
    "sum_real_9000 = real_9000.sum()\n",
    "sum_fake_9000 = fake_9000.sum()\n",
    "\n",
    "avg_real_9000 = sum_real_9000 / (sum_real_9000 + sum_fake_9000)\n",
    "avg_fake_9000 = sum_fake_9000 / (sum_real_9000 + sum_fake_9000)\n",
    "\n",
    "print(\"Commas in real data (in total 9000 records) / Commas in all data: \", avg_real_9000)\n",
    "print(\"Commas in fake data (in total 9000 records) / Commas in all data: \", avg_fake_9000)"
   ]
  },
  {
   "cell_type": "code",
   "execution_count": 86,
   "metadata": {},
   "outputs": [
    {
     "data": {
      "image/png": "[encoded data removed]",
      "text/plain": [
       "<Figure size 640x480 with 1 Axes>"
      ]
     },
     "metadata": {},
     "output_type": "display_data"
    },
    {
     "name": "stdout",
     "output_type": "stream",
     "text": [
      "Sentences in real data:  21.313262652530508 21.313262652530508\n",
      "Sentences in generated data:  28.838908801274393 28.838908801274393\n"
     ]
    }
   ],
   "source": [
    "real_f = df[df['labels'] == 1]\n",
    "fake_f = df[df['labels'] == 0]\n",
    "r_f = real_f[real_f['sentence_count'] < 50]\n",
    "f_f = fake_f[fake_f['sentence_count'] < 50]\n",
    "\n",
    "real_plt = r_f[\"sentence_count\"].apply(lambda x: x)\n",
    "fake_plt = f_f[\"sentence_count\"].apply(lambda x: x)\n",
    "plt.hist(real_plt, bins=100, alpha=0.5, label='Real')\n",
    "plt.hist(fake_plt, bins=100, alpha=0.5, label='Fake')\n",
    "\n",
    "plt.title('Punctuation percentage')\n",
    "plt.xlabel('Length')\n",
    "plt.ylabel('Count')\n",
    "plt.legend()\n",
    "plt.show()\n",
    "\n",
    "avg_real = r_f[\"sentence_count\"].mean()\n",
    "avg_fake = f_f[\"sentence_count\"].mean()\n",
    "\n",
    "print(\"Sentences in real data: \", avg_real, avg_real.mean())\n",
    "print(\"Sentences in generated data: \", avg_fake, avg_fake.mean())\n"
   ]
  },
  {
   "attachments": {},
   "cell_type": "markdown",
   "metadata": {},
   "source": [
    "# Model Training"
   ]
  },
  {
   "cell_type": "code",
   "execution_count": 48,
   "metadata": {},
   "outputs": [],
   "source": [
    "from sklearn.feature_extraction.text import CountVectorizer\n",
    "import scipy.sparse as sp\n",
    "import numpy as np"
   ]
  },
  {
   "cell_type": "code",
   "execution_count": 49,
   "metadata": {},
   "outputs": [],
   "source": [
    "vectorizer = CountVectorizer()\n",
    "X_real = vectorizer.fit_transform(real['article'])\n",
    "X_fake = vectorizer.transform(fake['article'])"
   ]
  },
  {
   "cell_type": "code",
   "execution_count": 50,
   "metadata": {},
   "outputs": [],
   "source": [
    "X = sp.vstack([X_real, X_fake])\n",
    "y = np.concatenate([np.ones(X_real.shape[0]), np.zeros(X_fake.shape[0])])"
   ]
  },
  {
   "cell_type": "code",
   "execution_count": 51,
   "metadata": {},
   "outputs": [],
   "source": [
    "from sklearn.model_selection import train_test_split\n",
    "X_train, X_test, y_train, y_test = train_test_split(X, y, test_size=0.2, random_state=42)\n"
   ]
  },
  {
   "cell_type": "code",
   "execution_count": 53,
   "metadata": {},
   "outputs": [
    {
     "name": "stderr",
     "output_type": "stream",
     "text": [
      "/Users/yarynakorduba/miniconda3/lib/python3.9/site-packages/sklearn/linear_model/_logistic.py:458: ConvergenceWarning: lbfgs failed to converge (status=1):\n",
      "STOP: TOTAL NO. of ITERATIONS REACHED LIMIT.\n",
      "\n",
      "Increase the number of iterations (max_iter) or scale the data as shown in:\n",
      "    https://scikit-learn.org/stable/modules/preprocessing.html\n",
      "Please also refer to the documentation for alternative solver options:\n",
      "    https://scikit-learn.org/stable/modules/linear_model.html#logistic-regression\n",
      "  n_iter_i = _check_optimize_result(\n"
     ]
    },
    {
     "data": {
      "text/html": [
       "<style>#sk-container-id-3 {color: black;background-color: white;}#sk-container-id-3 pre{padding: 0;}#sk-container-id-3 div.sk-toggleable {background-color: white;}#sk-container-id-3 label.sk-toggleable__label {cursor: pointer;display: block;width: 100%;margin-bottom: 0;padding: 0.3em;box-sizing: border-box;text-align: center;}#sk-container-id-3 label.sk-toggleable__label-arrow:before {content: \"▸\";float: left;margin-right: 0.25em;color: #696969;}#sk-container-id-3 label.sk-toggleable__label-arrow:hover:before {color: black;}#sk-container-id-3 div.sk-estimator:hover label.sk-toggleable__label-arrow:before {color: black;}#sk-container-id-3 div.sk-toggleable__content {max-height: 0;max-width: 0;overflow: hidden;text-align: left;background-color: #f0f8ff;}#sk-container-id-3 div.sk-toggleable__content pre {margin: 0.2em;color: black;border-radius: 0.25em;background-color: #f0f8ff;}#sk-container-id-3 input.sk-toggleable__control:checked~div.sk-toggleable__content {max-height: 200px;max-width: 100%;overflow: auto;}#sk-container-id-3 input.sk-toggleable__control:checked~label.sk-toggleable__label-arrow:before {content: \"▾\";}#sk-container-id-3 div.sk-estimator input.sk-toggleable__control:checked~label.sk-toggleable__label {background-color: #d4ebff;}#sk-container-id-3 div.sk-label input.sk-toggleable__control:checked~label.sk-toggleable__label {background-color: #d4ebff;}#sk-container-id-3 input.sk-hidden--visually {border: 0;clip: rect(1px 1px 1px 1px);clip: rect(1px, 1px, 1px, 1px);height: 1px;margin: -1px;overflow: hidden;padding: 0;position: absolute;width: 1px;}#sk-container-id-3 div.sk-estimator {font-family: monospace;background-color: #f0f8ff;border: 1px dotted black;border-radius: 0.25em;box-sizing: border-box;margin-bottom: 0.5em;}#sk-container-id-3 div.sk-estimator:hover {background-color: #d4ebff;}#sk-container-id-3 div.sk-parallel-item::after {content: \"\";width: 100%;border-bottom: 1px solid gray;flex-grow: 1;}#sk-container-id-3 div.sk-label:hover label.sk-toggleable__label {background-color: #d4ebff;}#sk-container-id-3 div.sk-serial::before {content: \"\";position: absolute;border-left: 1px solid gray;box-sizing: border-box;top: 0;bottom: 0;left: 50%;z-index: 0;}#sk-container-id-3 div.sk-serial {display: flex;flex-direction: column;align-items: center;background-color: white;padding-right: 0.2em;padding-left: 0.2em;position: relative;}#sk-container-id-3 div.sk-item {position: relative;z-index: 1;}#sk-container-id-3 div.sk-parallel {display: flex;align-items: stretch;justify-content: center;background-color: white;position: relative;}#sk-container-id-3 div.sk-item::before, #sk-container-id-3 div.sk-parallel-item::before {content: \"\";position: absolute;border-left: 1px solid gray;box-sizing: border-box;top: 0;bottom: 0;left: 50%;z-index: -1;}#sk-container-id-3 div.sk-parallel-item {display: flex;flex-direction: column;z-index: 1;position: relative;background-color: white;}#sk-container-id-3 div.sk-parallel-item:first-child::after {align-self: flex-end;width: 50%;}#sk-container-id-3 div.sk-parallel-item:last-child::after {align-self: flex-start;width: 50%;}#sk-container-id-3 div.sk-parallel-item:only-child::after {width: 0;}#sk-container-id-3 div.sk-dashed-wrapped {border: 1px dashed gray;margin: 0 0.4em 0.5em 0.4em;box-sizing: border-box;padding-bottom: 0.4em;background-color: white;}#sk-container-id-3 div.sk-label label {font-family: monospace;font-weight: bold;display: inline-block;line-height: 1.2em;}#sk-container-id-3 div.sk-label-container {text-align: center;}#sk-container-id-3 div.sk-container {/* jupyter's `normalize.less` sets `[hidden] { display: none; }` but bootstrap.min.css set `[hidden] { display: none !important; }` so we also need the `!important` here to be able to override the default hidden behavior on the sphinx rendered scikit-learn.org. See: https://github.com/scikit-learn/scikit-learn/issues/21755 */display: inline-block !important;position: relative;}#sk-container-id-3 div.sk-text-repr-fallback {display: none;}</style><div id=\"sk-container-id-3\" class=\"sk-top-container\"><div class=\"sk-text-repr-fallback\"><pre>LogisticRegression(random_state=42)</pre><b>In a Jupyter environment, please rerun this cell to show the HTML representation or trust the notebook. <br />On GitHub, the HTML representation is unable to render, please try loading this page with nbviewer.org.</b></div><div class=\"sk-container\" hidden><div class=\"sk-item\"><div class=\"sk-estimator sk-toggleable\"><input class=\"sk-toggleable__control sk-hidden--visually\" id=\"sk-estimator-id-3\" type=\"checkbox\" checked><label for=\"sk-estimator-id-3\" class=\"sk-toggleable__label sk-toggleable__label-arrow\">LogisticRegression</label><div class=\"sk-toggleable__content\"><pre>LogisticRegression(random_state=42)</pre></div></div></div></div></div>"
      ],
      "text/plain": [
       "LogisticRegression(random_state=42)"
      ]
     },
     "execution_count": 53,
     "metadata": {},
     "output_type": "execute_result"
    }
   ],
   "source": [
    "from sklearn.linear_model import LogisticRegression\n",
    "\n",
    "clf = LogisticRegression(random_state=42, max_iter=100)\n",
    "clf.fit(X_train, y_train)"
   ]
  },
  {
   "attachments": {},
   "cell_type": "markdown",
   "metadata": {},
   "source": [
    "____"
   ]
  },
  {
   "attachments": {},
   "cell_type": "markdown",
   "metadata": {},
   "source": [
    "# Model Evaluation"
   ]
  },
  {
   "cell_type": "code",
   "execution_count": 54,
   "metadata": {},
   "outputs": [
    {
     "name": "stdout",
     "output_type": "stream",
     "text": [
      "Accuracy: 0.8581716343268654\n",
      "Precision: 0.6565961732124874\n",
      "Recall: 0.6392156862745098\n",
      "F1 Score: 0.6477893691008445\n"
     ]
    }
   ],
   "source": [
    "from sklearn.metrics import accuracy_score, precision_score, recall_score, f1_score\n",
    "\n",
    "y_pred = clf.predict(X_test)\n",
    "\n",
    "accuracy = accuracy_score(y_test, y_pred)\n",
    "precision = precision_score(y_test, y_pred)\n",
    "recall = recall_score(y_test, y_pred)\n",
    "f1 = f1_score(y_test, y_pred)\n",
    "\n",
    "print('Accuracy:', accuracy)\n",
    "print('Precision:', precision)\n",
    "print('Recall:', recall)\n",
    "print('F1 Score:', f1)"
   ]
  },
  {
   "attachments": {},
   "cell_type": "markdown",
   "metadata": {},
   "source": [
    "___"
   ]
  },
  {
   "cell_type": "code",
   "execution_count": 12,
   "metadata": {},
   "outputs": [
    {
     "data": {
      "text/plain": [
       "article    0\n",
       "source     0\n",
       "labels     0\n",
       "dtype: int64"
      ]
     },
     "execution_count": 12,
     "metadata": {},
     "output_type": "execute_result"
    }
   ],
   "source": [
    "# Checking for null values\n",
    "df.isnull().sum()"
   ]
  },
  {
   "cell_type": "code",
   "execution_count": null,
   "metadata": {},
   "outputs": [],
   "source": [
    "x_df = df['text'] # features\n",
    "y_df = df['is_generated'] # targets"
   ]
  },
  {
   "cell_type": "code",
   "execution_count": null,
   "metadata": {},
   "outputs": [],
   "source": [
    "pretrained_model_name = \"bert-base-uncased\"\n",
    "tokenizer = AutoTokenizer.from_pretrained(pretrained_model_name)\n",
    "model = AutoModel.from_pretrained(pretrained_model_name)"
   ]
  },
  {
   "cell_type": "code",
   "execution_count": null,
   "metadata": {},
   "outputs": [],
   "source": [
    "x_df"
   ]
  },
  {
   "cell_type": "code",
   "execution_count": null,
   "metadata": {},
   "outputs": [],
   "source": [
    "train_idx = [i for i in range(len(x_df.index))]\n",
    "train_idx"
   ]
  },
  {
   "cell_type": "code",
   "execution_count": null,
   "metadata": {},
   "outputs": [],
   "source": [
    "x_train = x_df.values\n",
    "len(x_train)"
   ]
  },
  {
   "cell_type": "code",
   "execution_count": null,
   "metadata": {},
   "outputs": [],
   "source": [
    "# tokenized_x = tokenizer.encode('Blablabla')\n",
    "# tokenized_x"
   ]
  },
  {
   "cell_type": "code",
   "execution_count": null,
   "metadata": {},
   "outputs": [],
   "source": [
    "input_ids = [\n",
    "    tokenizer.encode(txt, add_special_tokens=True,pad_to_max_length=True) for txt in x_train\n",
    "]"
   ]
  },
  {
   "cell_type": "code",
   "execution_count": null,
   "metadata": {},
   "outputs": [],
   "source": [
    "input_ids\n",
    "len(input_ids)"
   ]
  },
  {
   "cell_type": "code",
   "execution_count": null,
   "metadata": {},
   "outputs": [],
   "source": [
    "len(input_ids[0])"
   ]
  },
  {
   "cell_type": "code",
   "execution_count": null,
   "metadata": {},
   "outputs": [],
   "source": [
    "# print( tokenizer.convert_ids_to_tokens( input_ids[0] ) )\n"
   ]
  }
 ],
 "metadata": {
  "kernelspec": {
   "display_name": "base",
   "language": "python",
   "name": "python3"
  },
  "language_info": {
   "codemirror_mode": {
    "name": "ipython",
    "version": 3
   },
   "file_extension": ".py",
   "mimetype": "text/x-python",
   "name": "python",
   "nbconvert_exporter": "python",
   "pygments_lexer": "ipython3",
   "version": "3.9.15"
  },
  "orig_nbformat": 4,
  "vscode": {
   "interpreter": {
    "hash": "ae358920b095aba3606275835b8556906450e686289b5881788c282daf881d4b"
   }
  }
 },
 "nbformat": 4,
 "nbformat_minor": 2
}
